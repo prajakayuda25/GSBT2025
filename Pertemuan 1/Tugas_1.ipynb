{
  "nbformat": 4,
  "nbformat_minor": 0,
  "metadata": {
    "colab": {
      "provenance": []
    },
    "kernelspec": {
      "name": "python3",
      "display_name": "Python 3"
    },
    "language_info": {
      "name": "python"
    }
  },
  "cells": [
    {
      "cell_type": "code",
      "execution_count": null,
      "metadata": {
        "id": "slcdZMjVsXZZ"
      },
      "outputs": [],
      "source": [
        "#Tugas 1 Main Class GSBT By Prajaka Yuda Nata Kusuma"
      ]
    }
  ]
}